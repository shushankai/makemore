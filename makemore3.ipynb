{
 "cells": [
  {
   "cell_type": "markdown",
   "metadata": {},
   "source": [
    "# Makemore - Activations & Gradients, BatchNorm"
   ]
  },
  {
   "cell_type": "markdown",
   "metadata": {},
   "source": [
    "## Imports"
   ]
  },
  {
   "cell_type": "code",
   "execution_count": 5,
   "metadata": {},
   "outputs": [],
   "source": [
    "import torch \n",
    "import torch.nn.functional as F\n",
    "import random\n",
    "import matplotlib.pyplot as plt \n",
    "\n",
    "%matplotlib inline\n",
    "#%config InlineBackend.figure_format='retina'\n",
    "%load_ext autoreload\n",
    "%autoreload 2"
   ]
  },
  {
   "cell_type": "code",
   "execution_count": 6,
   "metadata": {},
   "outputs": [],
   "source": [
    "SEED = 2147483647"
   ]
  },
  {
   "cell_type": "markdown",
   "metadata": {},
   "source": [
    "## Dataset"
   ]
  },
  {
   "cell_type": "code",
   "execution_count": 7,
   "metadata": {},
   "outputs": [
    {
     "data": {
      "text/plain": [
       "['emma', 'olivia', 'ava', 'isabella', 'sophia', 'charlotte', 'mia', 'amelia']"
      ]
     },
     "execution_count": 7,
     "metadata": {},
     "output_type": "execute_result"
    }
   ],
   "source": [
    "# reading the dataset \n",
    "words = open('name.txt', 'r').read().splitlines()\n",
    "words[:8]"
   ]
  },
  {
   "cell_type": "code",
   "execution_count": 8,
   "metadata": {},
   "outputs": [],
   "source": [
    "# Look up for characters\n",
    "chars = sorted(set(''.join(words)))\n",
    "stoi = {s : i + 1 for i,s in enumerate(chars)}\n",
    "stoi['.'] = 0\n",
    "itos = {i : s for s, i in stoi.items()} \n",
    "\n",
    "# Dictornary key, value and in enumerate index, value (column_names, values)"
   ]
  },
  {
   "cell_type": "code",
   "execution_count": 9,
   "metadata": {},
   "outputs": [],
   "source": [
    "# Dataset \n",
    "def build_dataset(words):\n",
    "    block_size = 3\n",
    "    context = []\n",
    "    X, Y = [], []\n",
    "    for w in words:\n",
    "        context = [0] * block_size\n",
    "        for ch in w + '.':\n",
    "            ix = stoi[ch]\n",
    "            X.append(context)\n",
    "            Y.append(ix)\n",
    "            context = context[1:] + [ix]\n",
    "        \n",
    "    X = torch.tensor(X)\n",
    "    Y = torch.tensor(Y)\n",
    "    print(X.shape, Y.shape)\n",
    "    return X, Y\n",
    "            "
   ]
  },
  {
   "cell_type": "code",
   "execution_count": 10,
   "metadata": {},
   "outputs": [
    {
     "name": "stdout",
     "output_type": "stream",
     "text": [
      "torch.Size([182625, 3]) torch.Size([182625])\n",
      "torch.Size([22655, 3]) torch.Size([22655])\n",
      "torch.Size([22866, 3]) torch.Size([22866])\n"
     ]
    }
   ],
   "source": [
    "random.seed(42)\n",
    "random.shuffle(words)\n",
    "\n",
    "n1 = int(0.8 * len(words))\n",
    "n2 = int(0.9 * len(words))\n",
    "\n",
    "Xtr, Ytr = build_dataset(words[:n1])\n",
    "Xdev, Ydev = build_dataset(words[n1:n2])\n",
    "Xte, Yte = build_dataset(words[n2:])"
   ]
  },
  {
   "cell_type": "markdown",
   "metadata": {},
   "source": [
    "## Model"
   ]
  },
  {
   "cell_type": "markdown",
   "metadata": {},
   "source": [
    "### MLP revisted "
   ]
  },
  {
   "cell_type": "code",
   "execution_count": null,
   "metadata": {},
   "outputs": [
    {
     "name": "stdout",
     "output_type": "stream",
     "text": [
      "11897\n"
     ]
    }
   ],
   "source": [
    "n_embb = 10  # dimensionality of character embedding vectors\n",
    "n_hidden = 200 # number of neurons in hidden layer\n",
    "vocab_size = len(itos) \n",
    "block_size = 3\n",
    "\n",
    "g = torch.Generator().manual_seed(SEED)\n",
    "C = torch.randn(size=(vocab_size, n_embb),              generator=g) #\n",
    "W1 = torch.randn(size=(block_size * n_embb, n_hidden),  generator=g)\n",
    "b1 = torch.randn(n_hidden,                              generator=g)\n",
    "W2 = torch.randn(size=(n_hidden, vocab_size),           generator=g)\n",
    "b2 = torch.randn(vocab_size,                            generator=g)\n",
    "\n",
    "parameters = [C, W1, b1, W2, b2]\n",
    "print(sum(p.nelement() for p in parameters))\n",
    "for p in parameters:\n",
    "    p.requires_grad = True\n"
   ]
  },
  {
   "cell_type": "code",
   "execution_count": null,
   "metadata": {},
   "outputs": [],
   "source": [
    "def train(max_steps, batch_size, lossi, g):\n",
    "    for i in range(max_steps):\n",
    "\n",
    "        # min batch \n",
    "        ix = torch.randint(low=0, high=Xtr.shape[0], size=(batch_size,), generator=g)\n",
    "        Xb, Yb = Xtr[ix], Ytr[ix]\n",
    "\n",
    "        # first layer \n",
    "        emb = C[Xb]\n",
    "        embcat = emb.view(emb.shape[0], -1)\n",
    "\n",
    "        # hidden layer \n",
    "        hpreact = embcat @ W1 + b1\n",
    "        h = torch.tanh(hpreact)\n",
    "\n",
    "        # third layer\n",
    "        logits = h @ W2 + b2\n",
    "        \n",
    "        # loss \n",
    "        loss = F.cross_entropy(logits, Yb)\n",
    "\n",
    "        for p in parameters:\n",
    "            p.grad = None\n",
    "        loss.backward()\n",
    "\n",
    "        # update\n",
    "        lr = 0.1 if i < 100000 else 0.01\n",
    "        for p in parameters:\n",
    "            p.data += -lr * p.grad\n",
    "        \n",
    "        # stats\n",
    "        if i % 10000 == 0:\n",
    "            print(f'{i:7d}/{max_steps:7d}: {loss.item():.4f}')\n",
    "            \n",
    "        lossi.append(loss.log10().item())\n"
   ]
  },
  {
   "cell_type": "code",
   "execution_count": null,
   "metadata": {},
   "outputs": [
    {
     "name": "stdout",
     "output_type": "stream",
     "text": [
      "      0/ 200000: 27.1911\n",
      "  10000/ 200000: 2.2061\n",
      "  20000/ 200000: 2.4354\n",
      "  30000/ 200000: 2.4549\n",
      "  40000/ 200000: 2.1549\n",
      "  50000/ 200000: 2.5022\n",
      "  60000/ 200000: 2.1099\n",
      "  70000/ 200000: 2.2633\n",
      "  80000/ 200000: 2.6464\n",
      "  90000/ 200000: 1.9474\n",
      " 100000/ 200000: 2.3580\n",
      " 110000/ 200000: 2.1949\n",
      " 120000/ 200000: 2.1472\n",
      " 130000/ 200000: 1.7711\n",
      " 140000/ 200000: 2.2109\n",
      " 150000/ 200000: 2.3094\n",
      " 160000/ 200000: 2.1037\n",
      " 170000/ 200000: 1.7047\n",
      " 180000/ 200000: 2.5600\n",
      " 190000/ 200000: 2.2778\n",
      "CPU times: user 4min 25s, sys: 1.22 s, total: 4min 27s\n",
      "Wall time: 2min 13s\n"
     ]
    }
   ],
   "source": [
    "max_steps = 200000\n",
    "batch_size = 32\n",
    "lossi = []\n",
    "g = torch.Generator().manual_seed(SEED)\n",
    "\n",
    "%time train(max_steps, batch_size, lossi, g)\n"
   ]
  },
  {
   "cell_type": "code",
   "execution_count": null,
   "metadata": {},
   "outputs": [
    {
     "data": {
      "text/plain": [
       "[<matplotlib.lines.Line2D at 0x7f9d9a63fc40>]"
      ]
     },
     "execution_count": 15,
     "metadata": {},
     "output_type": "execute_result"
    },
    {
     "data": {
      "image/png": "[encoded data removed]",
      "text/plain": [
       "<Figure size 640x480 with 1 Axes>"
      ]
     },
     "metadata": {},
     "output_type": "display_data"
    }
   ],
   "source": [
    "plt.plot(lossi)"
   ]
  },
  {
   "cell_type": "code",
   "execution_count": null,
   "metadata": {},
   "outputs": [
    {
     "name": "stdout",
     "output_type": "stream",
     "text": [
      "train 2.1255719661712646\n",
      "dev 2.1697864532470703\n",
      "test 2.164987325668335\n"
     ]
    }
   ],
   "source": [
    "@torch.no_grad()\n",
    "def split_loss(split):\n",
    "    x,y = {\n",
    "        'train': [Xtr, Ytr],\n",
    "        'dev' : [Xdev, Ydev],\n",
    "        'test' : [Xte, Yte]\n",
    "    }[split]\n",
    "    emb = C[x]\n",
    "    h = torch.tanh(emb.view(emb.shape[0], -1) @ W1 + b1)\n",
    "    logits = h @ W2 + b2\n",
    "    loss = F.cross_entropy(logits, y)\n",
    "    print(split, loss.item())\n",
    "\n",
    "split_loss('train')\n",
    "split_loss('dev')\n",
    "split_loss('test')"
   ]
  },
  {
   "cell_type": "code",
   "execution_count": null,
   "metadata": {},
   "outputs": [
    {
     "name": "stdout",
     "output_type": "stream",
     "text": [
      "mora.\n",
      "mayah.\n",
      "see.\n",
      "mad.\n",
      "ryla.\n",
      "rethrettadrie.\n",
      "razered.\n",
      "eliigh.\n",
      "parelle.\n",
      "elissopharleit.\n",
      "korvara.\n",
      "noshubergah.\n",
      "mies.\n",
      "jacer.\n",
      "jeniquettochuz.\n",
      "zayveer.\n",
      "yarue.\n",
      "ehs.\n",
      "kaysh.\n",
      "skylan.\n"
     ]
    }
   ],
   "source": [
    "# Sampling \n",
    "\n",
    "g = torch.Generator().manual_seed(SEED + 10)\n",
    "\n",
    "for _ in range(20):\n",
    "    out = []\n",
    "    context = [0] * block_size\n",
    "    while True:\n",
    "        emb = C[torch.tensor([context])]\n",
    "        h = torch.tanh(emb.view(emb.shape[0], -1) @ W1 + b1)\n",
    "        logits = h @ W2 + b2\n",
    "        prob = F.softmax(logits, 1)\n",
    "        ix = torch.multinomial(prob, num_samples=1, generator=g).item()\n",
    "        out.append(ix)\n",
    "        context = context[1:] + [ix]\n",
    "        if ix == 0:\n",
    "            break\n",
    "    print(''.join(itos[c] for c in out))\n",
    "\n"
   ]
  },
  {
   "cell_type": "markdown",
   "metadata": {},
   "source": [
    "### Fixing "
   ]
  },
  {
   "cell_type": "code",
   "execution_count": 7,
   "metadata": {},
   "outputs": [
    {
     "data": {
      "text/plain": [
       "(tensor([0.2500, 0.2500, 0.2500, 0.2500]),\n",
       " tensor(1.3863),\n",
       " tensor([0.0066, 0.0066, 0.9802, 0.0066]),\n",
       " tensor(0.0200),\n",
       " tensor([0.0066, 0.9802, 0.0066, 0.0066]),\n",
       " tensor(5.0200))"
      ]
     },
     "execution_count": 7,
     "metadata": {},
     "output_type": "execute_result"
    }
   ],
   "source": [
    "# Intially when we are running our model we are getting a loss of 27 which way too high \n",
    "# but at the intial state the probability for each of the character in our vocab should have equal probabality as every character will be equally likely \n",
    "# but when we are intializing neural network is creating probabilities that are almost up some character have very high probability and some have very less\n",
    "# so our neural network is very confidently wrong that make it record very high loss \n",
    "\n",
    "# A 4-dimenssional example of the issue\n",
    "logits = torch.tensor([0.0, 0.0, 0.0, 0.0]) \n",
    "prob = torch.softmax(logits, dim=0)\n",
    "loss = -prob[2].log()\n",
    "\n",
    "# here all the probabilities are same and so the loss will be the same it doesn't matter which is the true label \n",
    "# but if we change the logits and make them not equally likely then the loss will change if we assign a higher value \n",
    "# to our true label then loss will be low because we will be assign high probability for the true label and vice versa\n",
    "\n",
    "logits_1 = torch.tensor([0.0, 0.0, 5.0, 0.0]) \n",
    "logits_2 = torch.tensor([0.0, 5.0, .0, 0.0]) \n",
    "prob_1 = torch.softmax(logits_1, dim=0)\n",
    "loss_1 = -prob_1[2].log()\n",
    "prob_2 = torch.softmax(logits_2, dim=0)\n",
    "loss_2 = -prob_2[2].log()\n",
    "prob, loss, prob_1, loss_1, prob_2, loss_2"
   ]
  },
  {
   "cell_type": "code",
   "execution_count": 18,
   "metadata": {},
   "outputs": [
    {
     "name": "stdout",
     "output_type": "stream",
     "text": [
      "12097\n"
     ]
    }
   ],
   "source": [
    "n_embb = 10  # dimensionality of character embedding vectors\n",
    "n_hidden = 200 # number of neurons in hidden layer\n",
    "vocab_size = len(itos) \n",
    "block_size = 3\n",
    "\n",
    "g = torch.Generator().manual_seed(SEED)\n",
    "C = torch.randn(size=(vocab_size, n_embb),              generator=g) #\n",
    "W1 = torch.randn(size=(block_size * n_embb, n_hidden),  generator=g) * (5/3)/((block_size * n_embb)**0.5)\n",
    "# The preciese setting of these weights are not required during intiallization that is because of some \n",
    "# morder inovation and one of them begin batchnormalization - paper(Batch Normalization- Sergey Ioffe)\n",
    "\n",
    "# b1 = torch.randn(n_hidden,                              generator=g) * 0\n",
    "W2 = torch.randn(size=(n_hidden, vocab_size),           generator=g) * 0.01 \n",
    "b2 = torch.randn(vocab_size,                            generator=g) * 0 \n",
    "\n",
    "# Batch normalization is a technique used to improve the training of deep neural networks \n",
    "# by normalizing the inputs of each layer, making the training process more stable and efficient, \n",
    "# and addressing issues like vanishing gradients and accelerating convergence\n",
    "bngain = torch.ones((1,n_hidden))\n",
    "bnbias = torch.zeros((1,n_hidden))\n",
    "bnmean_running = torch.zeros((1, n_hidden)) # intailly our mean will be zeros\n",
    "bnstd_running = torch.ones((1,n_hidden)) # intailly our std will be one \n",
    "\n",
    "parameters = [C, W1, W2, b2, bngain, bnbias]\n",
    "print(sum(p.nelement() for p in parameters))\n",
    "for p in parameters:\n",
    "    p.requires_grad = True\n",
    "\n"
   ]
  },
  {
   "cell_type": "code",
   "execution_count": 9,
   "metadata": {},
   "outputs": [],
   "source": [
    "# g = torch.Generator().manual_seed(SEED)\n",
    "# C = torch.randn(size=(vocab_size, n_embb),              generator=g) #\n",
    "# W1 = torch.randn(size=(block_size * n_embb, n_hidden),  generator=g) * 0.2\n",
    "# b1 = torch.randn(n_hidden,                              generator=g) * 0\n",
    "# W2 = torch.randn(size=(n_hidden, vocab_size),           generator=g) * 0.01 \n",
    "# b2 = torch.randn(vocab_size,                            generator=g) * 0 \n",
    "\n",
    "# now we cannot have manually set 0.2 , 0, 0.01 and like how the hell these number comes from \n",
    "# so a better way of doing it "
   ]
  },
  {
   "cell_type": "code",
   "execution_count": 10,
   "metadata": {},
   "outputs": [
    {
     "name": "stdout",
     "output_type": "stream",
     "text": [
      "tensor(0.0044) tensor(0.9814)\n",
      "tensor(0.0078) tensor(3.1197)\n",
      "tensor(-0.0055) tensor(1.0177)\n",
      "tensor(-0.0002) tensor(1.7103)\n"
     ]
    },
    {
     "data": {
      "image/png": "[encoded data removed]",
      "text/plain": [
       "<Figure size 2000x500 with 2 Axes>"
      ]
     },
     "metadata": {},
     "output_type": "display_data"
    },
    {
     "data": {
      "image/png": "[encoded data removed]",
      "text/plain": [
       "<Figure size 2000x500 with 2 Axes>"
      ]
     },
     "metadata": {},
     "output_type": "display_data"
    }
   ],
   "source": [
    "x = torch.randn((100, 10))   # gaussain distribution\n",
    "w = torch.randn((10, 200))   # gaussian distribution \n",
    "y = x @ w \n",
    "print(x.mean(), x.std())\n",
    "print(y.mean(), y.std())\n",
    "plt.figure(figsize=(20, 5))\n",
    "plt.subplot(121)\n",
    "plt.hist(x.view(-1).tolist(), 50, density=True);\n",
    "plt.subplot(122)\n",
    "plt.hist(y.view(-1).tolist(), 50, density=True);\n",
    "\n",
    "# We can see that our std deviation is getting increased the weights are making our inputs spread more \n",
    "# Solution \n",
    "x = torch.randn((100, 10))   \n",
    "w = torch.randn((10, 200)) * (5/3) / (10**0.5) # gain / square root of inputs (fan_in)\n",
    "y = x @ w \n",
    "print(x.mean(), x.std())\n",
    "print(y.mean(), y.std())\n",
    "plt.figure(figsize=(20, 5))\n",
    "plt.subplot(121)\n",
    "plt.hist(x.view(-1).tolist(), 50, density=True);\n",
    "plt.subplot(122)\n",
    "plt.hist(y.view(-1).tolist(), 50, density=True);"
   ]
  },
  {
   "cell_type": "markdown",
   "metadata": {},
   "source": [
    "**Batch Normalization: A Trade-off Between Stability and Complexity**  \n",
    "\n",
    "Batch Normalization (BN) significantly improves the stability of neural network training, but it introduces a unique side effect.  \n",
    "\n",
    "Traditionally, when processing a single input example, the neural network’s activations and logits are computed deterministically.  \n",
    "However, for efficiency, we started processing multiple examples in batches.  \n",
    "Initially, this was purely for computational optimization, with each example being processed independently within a batch.  \n",
    "\n",
    "With Batch Normalization, however, this independence is lost.   \n",
    "Since normalization is performed across an entire batch, the activations of a single example are influenced by all other examples in the same batch.  \n",
    "This means that the hidden state activations and logits for any given input are no longer solely dependent on that specific input  \n",
    "but also on the other randomly sampled examples in the batch.  \n",
    "\n",
    "As a result, the activations fluctuate slightly based on which examples are included in a batch.  \n",
    "This introduces a form of randomness or **“jitter”** in the network’s computations.  \n",
    "Interestingly, this jitter acts as an implicit **regularization mechanism**.  \n",
    "Since the input activations are slightly perturbed based on the batch composition,  \n",
    "the model becomes less likely to overfit to specific examples.  \n",
    "\n",
    "This effect is somewhat similar to **data augmentation**—it introduces small variations that make the network more robust and generalizable.  \n",
    "By preventing the model from locking onto exact patterns in individual samples,  \n",
    "Batch Normalization indirectly encourages better generalization and stability during training.  \n",
    "\n",
    "**Input:** Values of $x$ over a mini-batch: $\\mathcal{B} = \\{x_1, ..., x_m\\}$  \n",
    "Parameters to be learned: $\\gamma, \\beta$  \n",
    "\n",
    "**Output:** $\\{ y_i = BN_{\\gamma, \\beta} (x_i) \\}$\n",
    "\n",
    "$$\n",
    "\\mu_{\\mathcal{B}} \\leftarrow \\frac{1}{m} \\sum_{i=1}^{m} x_i\n",
    "\\quad \\quad // \\text{mini-batch mean}\n",
    "$$\n",
    "\n",
    "$$\n",
    "\\sigma^2_{\\mathcal{B}} \\leftarrow \\frac{1}{m} \\sum_{i=1}^{m} (x_i - \\mu_{\\mathcal{B}})^2\n",
    "\\quad \\quad // \\text{mini-batch variance}\n",
    "$$\n",
    "\n",
    "$$\n",
    "\\hat{x}_i \\leftarrow \\frac{x_i - \\mu_{\\mathcal{B}}}{\\sqrt{\\sigma^2_{\\mathcal{B}} + \\epsilon}}\n",
    "\\quad \\quad // \\text{normalize}\n",
    "$$\n",
    "\n",
    "$$\n",
    "y_i \\leftarrow \\gamma \\hat{x}_i + \\beta \\equiv BN_{\\gamma, \\beta} (x_i)\n",
    "\\quad \\quad // \\text{scale and shift}\n",
    "$$\n",
    "\n",
    "$\\epsilon$: : this is used to prevent division by zero\n",
    "\n",
    "**Algorithm 1:** Batch Normalizing Transform, applied to activation $x$ over a mini-batch.\n"
   ]
  },
  {
   "cell_type": "code",
   "execution_count": 19,
   "metadata": {
    "tags": [
     "hide-input"
    ]
   },
   "outputs": [
    {
     "name": "stdout",
     "output_type": "stream",
     "text": [
      "      0/ 200000: 3.2934\n"
     ]
    },
    {
     "name": "stdout",
     "output_type": "stream",
     "text": [
      "  10000/ 200000: 2.0778\n",
      "  20000/ 200000: 2.3837\n",
      "  30000/ 200000: 2.0879\n",
      "  40000/ 200000: 2.0825\n",
      "  50000/ 200000: 2.3614\n",
      "  60000/ 200000: 1.9799\n",
      "  70000/ 200000: 2.0874\n",
      "  80000/ 200000: 2.2524\n",
      "  90000/ 200000: 2.0369\n",
      " 100000/ 200000: 2.1774\n",
      " 110000/ 200000: 2.0857\n",
      " 120000/ 200000: 2.2021\n",
      " 130000/ 200000: 1.6541\n",
      " 140000/ 200000: 2.2542\n",
      " 150000/ 200000: 2.2939\n",
      " 160000/ 200000: 2.0654\n",
      " 170000/ 200000: 1.7312\n",
      " 180000/ 200000: 2.6494\n",
      " 190000/ 200000: 2.3399\n"
     ]
    }
   ],
   "source": [
    "max_steps = 200000\n",
    "batch_size = 32\n",
    "lossi = []\n",
    "g = torch.Generator().manual_seed(SEED)\n",
    "\n",
    "\n",
    "for i in range(max_steps):\n",
    "\n",
    "    # min batch \n",
    "    ix = torch.randint(low=0, high=Xtr.shape[0], size=(batch_size,), generator=g)\n",
    "    Xb, Yb = Xtr[ix], Ytr[ix]\n",
    "\n",
    "    # first layer \n",
    "    emb = C[Xb] # embed the characters into vector\n",
    "    embcat = emb.view(emb.shape[0], -1) # concatenate the vector\n",
    "\n",
    "    # hidden layer \n",
    "    # we don't want the pre-activation hidden layer output to be too small because than tanh is not doing anything \n",
    "    # and we also don't want it to be large because then tanh will be too saturated and gradient will not flow we want them to be roughly gaussian \n",
    "    # 0 mean 1 std at least at intiallization so to do it just take the hidden state and normalizie them to be gaussian \n",
    "    # and we can do it because standarizing hidden state to gaussian is a perfectly defrential operation\n",
    "\n",
    "    # Linear layer\n",
    "    hpreact = embcat @ W1 #+ b1 # hidden layer pre-activation\n",
    "\n",
    "    # batch normalization\n",
    "    #--------------------------------------------------------\n",
    "    bnmeani = hpreact.mean(0, keepdim=True)\n",
    "    bnstdi = hpreact.std(0, keepdim=True)\n",
    "    hpreact = bngain * (hpreact - bnmeani) / bnstdi + bnbias \n",
    "\n",
    "    with torch.no_grad():\n",
    "        bnmean_running = 0.999 * bnmean_running + 0.001 * bnmeani \n",
    "        bnstd_running = 0.999 * bnstd_running + 0.001 * bnstdi\n",
    "    #--------------------------------------------------------\n",
    "    \n",
    "    h = torch.tanh(hpreact) # hidden layer\n",
    "    # third layer\n",
    "    logits = h @ W2 + b2\n",
    "    \n",
    "    # loss \n",
    "    loss = F.cross_entropy(logits, Yb)\n",
    "    for p in parameters:\n",
    "        p.grad = None\n",
    "    loss.backward()\n",
    "\n",
    "    # update\n",
    "    lr = 0.1 if i < 100000 else 0.01\n",
    "    for p in parameters:\n",
    "        p.data += -lr * p.grad\n",
    "    \n",
    "    # stats\n",
    "    if i % 10000 == 0:\n",
    "        print(f'{i:7d}/{max_steps:7d}: {loss.item():.4f}')\n",
    "        \n",
    "    lossi.append(loss.log10().item())\n",
    "\n",
    "    #break"
   ]
  },
  {
   "cell_type": "code",
   "execution_count": 12,
   "metadata": {},
   "outputs": [
    {
     "data": {
      "text/plain": [
       "[<matplotlib.lines.Line2D at 0x7f4db0287b20>]"
      ]
     },
     "execution_count": 12,
     "metadata": {},
     "output_type": "execute_result"
    },
    {
     "data": {
      "image/png": "[encoded data removed]",
      "text/plain": [
       "<Figure size 640x480 with 1 Axes>"
      ]
     },
     "metadata": {},
     "output_type": "display_data"
    }
   ],
   "source": [
    "plt.plot(lossi)"
   ]
  },
  {
   "cell_type": "code",
   "execution_count": null,
   "metadata": {},
   "outputs": [
    {
     "data": {
      "text/plain": [
       "tensor([[ 0.8810,  0.9433, -0.9320,  ..., -0.3988, -0.7453,  0.9005],\n",
       "        [ 0.9489, -0.2966,  0.9102,  ..., -0.9576,  0.8927,  0.8414],\n",
       "        [-0.0379, -0.9135,  0.2614,  ...,  0.9588, -0.9629,  0.5953],\n",
       "        ...,\n",
       "        [ 0.6236, -0.8190, -0.7018,  ...,  0.9079, -0.2305,  0.7248],\n",
       "        [-0.7979, -0.5701,  0.5447,  ...,  0.0389, -0.9189,  0.3591],\n",
       "        [ 0.9664,  0.0152,  0.4079,  ..., -0.9992,  0.9768,  0.5741]],\n",
       "       grad_fn=<TanhBackward0>)"
      ]
     },
     "execution_count": 13,
     "metadata": {},
     "output_type": "execute_result"
    }
   ],
   "source": [
    "# Another issue is our h \n",
    "h\n",
    "# here we can se that lots of our value are 1, and -1 "
   ]
  },
  {
   "cell_type": "code",
   "execution_count": 14,
   "metadata": {},
   "outputs": [
    {
     "data": {
      "image/png": "[encoded data removed]",
      "text/plain": [
       "<Figure size 640x480 with 1 Axes>"
      ]
     },
     "metadata": {},
     "output_type": "display_data"
    }
   ],
   "source": [
    "plt.hist(h.view(-1).tolist(), bins=50);\n",
    "# most of our values are 1 or -1 this is because torch.tanh squash the value between -1 and 1 "
   ]
  },
  {
   "cell_type": "code",
   "execution_count": 15,
   "metadata": {},
   "outputs": [
    {
     "data": {
      "image/png": "[encoded data removed]",
      "text/plain": [
       "<Figure size 640x480 with 1 Axes>"
      ]
     },
     "metadata": {},
     "output_type": "display_data"
    }
   ],
   "source": [
    "plt.hist(hpreact.view(-1).tolist(), 50);\n",
    "# our values are spread bewteen -20 to 20 so a lots of values are getting squashed into -1 and 1 \n",
    "# why this is a problem because of backpropagation \n"
   ]
  },
  {
   "cell_type": "code",
   "execution_count": 16,
   "metadata": {},
   "outputs": [
    {
     "data": {
      "text/plain": [
       "<matplotlib.image.AxesImage at 0x7f4da56504c0>"
      ]
     },
     "execution_count": 16,
     "metadata": {},
     "output_type": "execute_result"
    },
    {
     "data": {
      "image/png": "[encoded data removed]",
      "text/plain": [
       "<Figure size 2000x1000 with 1 Axes>"
      ]
     },
     "metadata": {},
     "output_type": "display_data"
    }
   ],
   "source": [
    "plt.figure(figsize=(20,10))\n",
    "plt.imshow(h.abs() > 0.99, cmap='grey', interpolation='nearest')\n",
    "# what we are doing in this plot is we are checking how offen our values are above 0.99 \n",
    "# this is a boolean map and white tiles shows true and grey shows false\n",
    "# observation : most of the values are greater than 0.99 \n",
    "\n",
    "\n",
    "# we will be in lot of trouble if anyone of the entire column would be white in that case we will have a dead neuron \n",
    "# in such a case the intiallization of weight and biases could be such that no single example ever activates this tanh in sort of active part of tanh \n",
    "# if all the examples land in the tail then this neuron will never learn it is a dead neuron\n"
   ]
  },
  {
   "cell_type": "markdown",
   "metadata": {},
   "source": [
    "**How to calculate loss on dev and test or in prod with batch normalization** \n",
    "Once we have trained our neural network then we want to deploy it to some kind of setting and we'd like to be able to feed in a single individual example and get a prediction out from our neural network but how do we do that when our neural net now in a forward pass estimates the statistics of mean and std of a batch. The neural net expects batches of input now so how do we feed in a single example and get sensible results our and so the proposal in the batch normalization paper is the following what we would like to do here is we would like to basically have a step after tariing that calcualtes and set the batch mean and std a single time over the training set \n",
    "\n",
    "`with torch.no_grad():\n",
    "    # pass the training set\n",
    "    emb = C[Xtr]\n",
    "    embcat = emb.view(emb.shape[0], -1)\n",
    "    hpreact = embcat @ W1 + b1\n",
    "    # measure the mean/std over the entire datset\n",
    "    bnmean = hpreact.mean(0, keepdim=True)\n",
    "    bnstd = hpreact.std(0, keepdim=True)\n",
    "`\n",
    "\n",
    "\n",
    "and at test time we are going to fix these and use them during inference \n",
    "no body wants to calculate bnmean and bnstd seperately so we do it with our trianing only "
   ]
  },
  {
   "cell_type": "code",
   "execution_count": 14,
   "metadata": {},
   "outputs": [],
   "source": [
    "with torch.no_grad():\n",
    "    # pass the training set\n",
    "    emb = C[Xtr]\n",
    "    embcat = emb.view(emb.shape[0], -1)\n",
    "    hpreact = embcat @ W1 + b1\n",
    "    # measure the mean/std over the entire datset\n",
    "    bnmean = hpreact.mean(0, keepdim=True)\n",
    "    bnstd = hpreact.std(0, keepdim=True)\n"
   ]
  },
  {
   "cell_type": "code",
   "execution_count": 15,
   "metadata": {},
   "outputs": [
    {
     "name": "stdout",
     "output_type": "stream",
     "text": [
      "train 2.0679237842559814\n",
      "dev 2.109525442123413\n",
      "test 2.1098077297210693\n"
     ]
    }
   ],
   "source": [
    "@torch.no_grad()\n",
    "def split_loss(split):\n",
    "    x,y = {\n",
    "        'train': [Xtr, Ytr],\n",
    "        'dev' : [Xdev, Ydev],\n",
    "        'test' : [Xte, Yte]\n",
    "    }[split]\n",
    "    emb = C[x]\n",
    "    embcat = emb.view(emb.shape[0], -1)\n",
    "    hpreact = embcat @ W1 + b1\n",
    "    # bnmeani = hpreact.mean(0, keepdim=True)\n",
    "    # bnstdi = hpreact.std(0, keepdim=True)\n",
    "    hpreact = bngain * (hpreact - bnmean_running) / bnstd_running + bnbias \n",
    "    h = torch.tanh(hpreact)\n",
    "    logits = h @ W2 + b2\n",
    "    loss = F.cross_entropy(logits, y)\n",
    "    print(split, loss.item())\n",
    "\n",
    "split_loss('train')\n",
    "split_loss('dev')\n",
    "split_loss('test')"
   ]
  },
  {
   "cell_type": "code",
   "execution_count": null,
   "metadata": {},
   "outputs": [],
   "source": []
  },
  {
   "cell_type": "code",
   "execution_count": null,
   "metadata": {},
   "outputs": [],
   "source": []
  }
 ],
 "metadata": {
  "kernelspec": {
   "display_name": ".venv",
   "language": "python",
   "name": "python3"
  },
  "language_info": {
   "codemirror_mode": {
    "name": "ipython",
    "version": 3
   },
   "file_extension": ".py",
   "mimetype": "text/x-python",
   "name": "python",
   "nbconvert_exporter": "python",
   "pygments_lexer": "ipython3",
   "version": "3.10.16"
  }
 },
 "nbformat": 4,
 "nbformat_minor": 2
}
