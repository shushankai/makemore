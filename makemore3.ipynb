{
 "cells": [
  {
   "cell_type": "markdown",
   "metadata": {},
   "source": [
    "# Makemore - Activations & Gradients, BatchNorm"
   ]
  },
  {
   "cell_type": "markdown",
   "metadata": {},
   "source": [
    "## Imports"
   ]
  },
  {
   "cell_type": "code",
   "execution_count": 2,
   "metadata": {},
   "outputs": [],
   "source": [
    "import torch \n",
    "import torch.nn.functional as F\n",
    "import random\n",
    "import matplotlib.pyplot as plt \n",
    "\n",
    "%matplotlib inline\n",
    "#%config InlineBackend.figure_format='retina'\n",
    "%load_ext autoreload\n",
    "%autoreload 2"
   ]
  },
  {
   "cell_type": "code",
   "execution_count": 1,
   "metadata": {},
   "outputs": [],
   "source": [
    "SEED = 2147483647"
   ]
  },
  {
   "cell_type": "markdown",
   "metadata": {},
   "source": [
    "## Dataset"
   ]
  },
  {
   "cell_type": "code",
   "execution_count": 3,
   "metadata": {},
   "outputs": [
    {
     "data": {
      "text/plain": [
       "['emma', 'olivia', 'ava', 'isabella', 'sophia', 'charlotte', 'mia', 'amelia']"
      ]
     },
     "execution_count": 3,
     "metadata": {},
     "output_type": "execute_result"
    }
   ],
   "source": [
    "# reading the dataset \n",
    "words = open('name.txt', 'r').read().splitlines()\n",
    "words[:8]"
   ]
  },
  {
   "cell_type": "code",
   "execution_count": 4,
   "metadata": {},
   "outputs": [],
   "source": [
    "# Look up for characters\n",
    "chars = sorted(set(''.join(words)))\n",
    "stoi = {s : i + 1 for i,s in enumerate(chars)}\n",
    "stoi['.'] = 0\n",
    "itos = {i : s for s, i in stoi.items()} \n",
    "\n",
    "# Dictornary key, value and in enumerate index, value (column_names, values)"
   ]
  },
  {
   "cell_type": "code",
   "execution_count": 5,
   "metadata": {},
   "outputs": [],
   "source": [
    "# Dataset \n",
    "def build_dataset(words):\n",
    "    block_size = 3\n",
    "    context = []\n",
    "    X, Y = [], []\n",
    "    for w in words:\n",
    "        context = [0] * block_size\n",
    "        for ch in w + '.':\n",
    "            ix = stoi[ch]\n",
    "            X.append(context)\n",
    "            Y.append(ix)\n",
    "            context = context[1:] + [ix]\n",
    "        \n",
    "    X = torch.tensor(X)\n",
    "    Y = torch.tensor(Y)\n",
    "    print(X.shape, Y.shape)\n",
    "    return X, Y\n",
    "            "
   ]
  },
  {
   "cell_type": "code",
   "execution_count": 6,
   "metadata": {},
   "outputs": [
    {
     "name": "stdout",
     "output_type": "stream",
     "text": [
      "torch.Size([182625, 3]) torch.Size([182625])\n",
      "torch.Size([22655, 3]) torch.Size([22655])\n",
      "torch.Size([22866, 3]) torch.Size([22866])\n"
     ]
    }
   ],
   "source": [
    "random.seed(42)\n",
    "random.shuffle(words)\n",
    "\n",
    "n1 = int(0.8 * len(words))\n",
    "n2 = int(0.9 * len(words))\n",
    "\n",
    "Xtr, Ytr = build_dataset(words[:n1])\n",
    "Xdev, Ydev = build_dataset(words[n1:n2])\n",
    "Xte, Yte = build_dataset(words[n2:])"
   ]
  },
  {
   "cell_type": "markdown",
   "metadata": {},
   "source": [
    "## Model"
   ]
  },
  {
   "cell_type": "markdown",
   "metadata": {},
   "source": [
    "### MLP revisted "
   ]
  },
  {
   "cell_type": "code",
   "execution_count": null,
   "metadata": {},
   "outputs": [
    {
     "name": "stdout",
     "output_type": "stream",
     "text": [
      "11897\n"
     ]
    }
   ],
   "source": [
    "n_embb = 10  # dimensionality of character embedding vectors\n",
    "n_hidden = 200 # number of neurons in hidden layer\n",
    "vocab_size = len(itos) \n",
    "block_size = 3\n",
    "\n",
    "g = torch.Generator().manual_seed(SEED)\n",
    "C = torch.randn(size=(vocab_size, n_embb),              generator=g) #\n",
    "W1 = torch.randn(size=(block_size * n_embb, n_hidden),  generator=g)\n",
    "b1 = torch.randn(n_hidden,                              generator=g)\n",
    "W2 = torch.randn(size=(n_hidden, vocab_size),           generator=g)\n",
    "b2 = torch.randn(vocab_size,                            generator=g)\n",
    "\n",
    "parameters = [C, W1, b1, W2, b2]\n",
    "print(sum(p.nelement() for p in parameters))\n",
    "for p in parameters:\n",
    "    p.requires_grad = True\n"
   ]
  },
  {
   "cell_type": "code",
   "execution_count": null,
   "metadata": {},
   "outputs": [],
   "source": [
    "def train(max_steps, batch_size, lossi, g):\n",
    "    for i in range(max_steps):\n",
    "\n",
    "        # min batch \n",
    "        ix = torch.randint(low=0, high=Xtr.shape[0], size=(batch_size,), generator=g)\n",
    "        Xb, Yb = Xtr[ix], Ytr[ix]\n",
    "\n",
    "        # first layer \n",
    "        emb = C[Xb]\n",
    "        embcat = emb.view(emb.shape[0], -1)\n",
    "\n",
    "        # hidden layer \n",
    "        hpreact = embcat @ W1 + b1\n",
    "        h = torch.tanh(hpreact)\n",
    "\n",
    "        # third layer\n",
    "        logits = h @ W2 + b2\n",
    "        \n",
    "        # loss \n",
    "        loss = F.cross_entropy(logits, Yb)\n",
    "\n",
    "        for p in parameters:\n",
    "            p.grad = None\n",
    "        loss.backward()\n",
    "\n",
    "        # update\n",
    "        lr = 0.1 if i < 100000 else 0.01\n",
    "        for p in parameters:\n",
    "            p.data += -lr * p.grad\n",
    "        \n",
    "        # stats\n",
    "        if i % 10000 == 0:\n",
    "            print(f'{i:7d}/{max_steps:7d}: {loss.item():.4f}')\n",
    "            \n",
    "        lossi.append(loss.log10().item())\n"
   ]
  },
  {
   "cell_type": "code",
   "execution_count": null,
   "metadata": {},
   "outputs": [
    {
     "name": "stdout",
     "output_type": "stream",
     "text": [
      "      0/ 200000: 27.1911\n",
      "  10000/ 200000: 2.2061\n",
      "  20000/ 200000: 2.4354\n",
      "  30000/ 200000: 2.4549\n",
      "  40000/ 200000: 2.1549\n",
      "  50000/ 200000: 2.5022\n",
      "  60000/ 200000: 2.1099\n",
      "  70000/ 200000: 2.2633\n",
      "  80000/ 200000: 2.6464\n",
      "  90000/ 200000: 1.9474\n",
      " 100000/ 200000: 2.3580\n",
      " 110000/ 200000: 2.1949\n",
      " 120000/ 200000: 2.1472\n",
      " 130000/ 200000: 1.7711\n",
      " 140000/ 200000: 2.2109\n",
      " 150000/ 200000: 2.3094\n",
      " 160000/ 200000: 2.1037\n",
      " 170000/ 200000: 1.7047\n",
      " 180000/ 200000: 2.5600\n",
      " 190000/ 200000: 2.2778\n",
      "CPU times: user 4min 25s, sys: 1.22 s, total: 4min 27s\n",
      "Wall time: 2min 13s\n"
     ]
    }
   ],
   "source": [
    "max_steps = 200000\n",
    "batch_size = 32\n",
    "lossi = []\n",
    "g = torch.Generator().manual_seed(SEED)\n",
    "\n",
    "%time train(max_steps, batch_size, lossi, g)\n"
   ]
  },
  {
   "cell_type": "code",
   "execution_count": null,
   "metadata": {},
   "outputs": [
    {
     "data": {
      "text/plain": [
       "[<matplotlib.lines.Line2D at 0x7f9d9a63fc40>]"
      ]
     },
     "execution_count": 15,
     "metadata": {},
     "output_type": "execute_result"
    },
    {
     "data": {
      "image/png": "[encoded data removed]",
      "text/plain": [
       "<Figure size 640x480 with 1 Axes>"
      ]
     },
     "metadata": {},
     "output_type": "display_data"
    }
   ],
   "source": [
    "plt.plot(lossi)"
   ]
  },
  {
   "cell_type": "code",
   "execution_count": null,
   "metadata": {},
   "outputs": [
    {
     "name": "stdout",
     "output_type": "stream",
     "text": [
      "train 2.1255719661712646\n",
      "dev 2.1697864532470703\n",
      "test 2.164987325668335\n"
     ]
    }
   ],
   "source": [
    "@torch.no_grad()\n",
    "def split_loss(split):\n",
    "    x,y = {\n",
    "        'train': [Xtr, Ytr],\n",
    "        'dev' : [Xdev, Ydev],\n",
    "        'test' : [Xte, Yte]\n",
    "    }[split]\n",
    "    emb = C[x]\n",
    "    h = torch.tanh(emb.view(emb.shape[0], -1) @ W1 + b1)\n",
    "    logits = h @ W2 + b2\n",
    "    loss = F.cross_entropy(logits, y)\n",
    "    print(split, loss.item())\n",
    "\n",
    "split_loss('train')\n",
    "split_loss('dev')\n",
    "split_loss('test')"
   ]
  },
  {
   "cell_type": "code",
   "execution_count": null,
   "metadata": {},
   "outputs": [
    {
     "name": "stdout",
     "output_type": "stream",
     "text": [
      "mora.\n",
      "mayah.\n",
      "see.\n",
      "mad.\n",
      "ryla.\n",
      "rethrettadrie.\n",
      "razered.\n",
      "eliigh.\n",
      "parelle.\n",
      "elissopharleit.\n",
      "korvara.\n",
      "noshubergah.\n",
      "mies.\n",
      "jacer.\n",
      "jeniquettochuz.\n",
      "zayveer.\n",
      "yarue.\n",
      "ehs.\n",
      "kaysh.\n",
      "skylan.\n"
     ]
    }
   ],
   "source": [
    "# Sampling \n",
    "\n",
    "g = torch.Generator().manual_seed(SEED + 10)\n",
    "\n",
    "for _ in range(20):\n",
    "    out = []\n",
    "    context = [0] * block_size\n",
    "    while True:\n",
    "        emb = C[torch.tensor([context])]\n",
    "        h = torch.tanh(emb.view(emb.shape[0], -1) @ W1 + b1)\n",
    "        logits = h @ W2 + b2\n",
    "        prob = F.softmax(logits, 1)\n",
    "        ix = torch.multinomial(prob, num_samples=1, generator=g).item()\n",
    "        out.append(ix)\n",
    "        context = context[1:] + [ix]\n",
    "        if ix == 0:\n",
    "            break\n",
    "    print(''.join(itos[c] for c in out))\n",
    "\n"
   ]
  },
  {
   "cell_type": "markdown",
   "metadata": {},
   "source": [
    "### Fixing "
   ]
  },
  {
   "cell_type": "code",
   "execution_count": 7,
   "metadata": {},
   "outputs": [
    {
     "data": {
      "text/plain": [
       "(tensor([0.2500, 0.2500, 0.2500, 0.2500]),\n",
       " tensor(1.3863),\n",
       " tensor([0.0066, 0.0066, 0.9802, 0.0066]),\n",
       " tensor(0.0200),\n",
       " tensor([0.0066, 0.9802, 0.0066, 0.0066]),\n",
       " tensor(5.0200))"
      ]
     },
     "execution_count": 7,
     "metadata": {},
     "output_type": "execute_result"
    }
   ],
   "source": [
    "# Intially when we are running our model we are getting a loss of 27 which way too high \n",
    "# but at the intial state the probability for each of the character in our vocab should have equal probabality as every character will be equally likely \n",
    "# but when we are intializing neural network is creating probabilities that are almost up some character have very high probability and some have very less\n",
    "# so our neural network is very confidently wrong that make it record very high loss \n",
    "\n",
    "# A 4-dimenssional example of the issue\n",
    "logits = torch.tensor([0.0, 0.0, 0.0, 0.0]) \n",
    "prob = torch.softmax(logits, dim=0)\n",
    "loss = -prob[2].log()\n",
    "\n",
    "# here all the probabilities are same and so the loss will be the same it doesn't matter which is the true label \n",
    "# but if we change the logits and make them not equally likely then the loss will change if we assign a higher value \n",
    "# to our true label then loss will be low because we will be assign high probability for the true label and vice versa\n",
    "\n",
    "logits_1 = torch.tensor([0.0, 0.0, 5.0, 0.0]) \n",
    "logits_2 = torch.tensor([0.0, 5.0, .0, 0.0]) \n",
    "prob_1 = torch.softmax(logits_1, dim=0)\n",
    "loss_1 = -prob_1[2].log()\n",
    "prob_2 = torch.softmax(logits_2, dim=0)\n",
    "loss_2 = -prob_2[2].log()\n",
    "prob, loss, prob_1, loss_1, prob_2, loss_2"
   ]
  },
  {
   "cell_type": "code",
   "execution_count": 8,
   "metadata": {},
   "outputs": [
    {
     "name": "stdout",
     "output_type": "stream",
     "text": [
      "11897\n"
     ]
    }
   ],
   "source": [
    "n_embb = 10  # dimensionality of character embedding vectors\n",
    "n_hidden = 200 # number of neurons in hidden layer\n",
    "vocab_size = len(itos) \n",
    "block_size = 3\n",
    "\n",
    "g = torch.Generator().manual_seed(SEED)\n",
    "C = torch.randn(size=(vocab_size, n_embb),              generator=g) #\n",
    "W1 = torch.randn(size=(block_size * n_embb, n_hidden),  generator=g) * 0.2\n",
    "b1 = torch.randn(n_hidden,                              generator=g) * 0\n",
    "W2 = torch.randn(size=(n_hidden, vocab_size),           generator=g) * 0.01 \n",
    "b2 = torch.randn(vocab_size,                            generator=g) * 0 \n",
    "\n",
    "parameters = [C, W1, b1, W2, b2]\n",
    "print(sum(p.nelement() for p in parameters))\n",
    "for p in parameters:\n",
    "    p.requires_grad = True\n"
   ]
  },
  {
   "cell_type": "code",
   "execution_count": 9,
   "metadata": {},
   "outputs": [
    {
     "name": "stdout",
     "output_type": "stream",
     "text": [
      "      0/ 200000: 3.3071\n"
     ]
    },
    {
     "name": "stdout",
     "output_type": "stream",
     "text": [
      "  10000/ 200000: 2.0377\n",
      "  20000/ 200000: 2.3303\n",
      "  30000/ 200000: 2.2041\n",
      "  40000/ 200000: 2.0221\n",
      "  50000/ 200000: 2.3013\n",
      "  60000/ 200000: 1.9124\n",
      "  70000/ 200000: 2.0350\n",
      "  80000/ 200000: 2.1547\n",
      "  90000/ 200000: 1.9577\n",
      " 100000/ 200000: 2.1940\n",
      " 110000/ 200000: 2.0594\n",
      " 120000/ 200000: 2.0821\n",
      " 130000/ 200000: 1.6454\n",
      " 140000/ 200000: 2.1704\n",
      " 150000/ 200000: 2.2363\n",
      " 160000/ 200000: 2.0752\n",
      " 170000/ 200000: 1.6821\n",
      " 180000/ 200000: 2.5423\n",
      " 190000/ 200000: 2.2485\n"
     ]
    }
   ],
   "source": [
    "max_steps = 200000\n",
    "batch_size = 32\n",
    "lossi = []\n",
    "g = torch.Generator().manual_seed(SEED)\n",
    "\n",
    "\n",
    "for i in range(max_steps):\n",
    "\n",
    "    # min batch \n",
    "    ix = torch.randint(low=0, high=Xtr.shape[0], size=(batch_size,), generator=g)\n",
    "    Xb, Yb = Xtr[ix], Ytr[ix]\n",
    "    # first layer \n",
    "    emb = C[Xb]\n",
    "    embcat = emb.view(emb.shape[0], -1)\n",
    "    # hidden layer \n",
    "    hpreact = embcat @ W1 + b1\n",
    "    h = torch.tanh(hpreact)\n",
    "    # third layer\n",
    "    logits = h @ W2 + b2\n",
    "    \n",
    "    # loss \n",
    "    loss = F.cross_entropy(logits, Yb)\n",
    "    for p in parameters:\n",
    "        p.grad = None\n",
    "    loss.backward()\n",
    "    # update\n",
    "    lr = 0.1 if i < 100000 else 0.01\n",
    "    for p in parameters:\n",
    "        p.data += -lr * p.grad\n",
    "    \n",
    "    # stats\n",
    "    if i % 10000 == 0:\n",
    "        print(f'{i:7d}/{max_steps:7d}: {loss.item():.4f}')\n",
    "        \n",
    "    lossi.append(loss.log10().item())\n",
    "\n",
    "    #break"
   ]
  },
  {
   "cell_type": "code",
   "execution_count": 10,
   "metadata": {},
   "outputs": [
    {
     "data": {
      "text/plain": [
       "[<matplotlib.lines.Line2D at 0x7f631367bf40>]"
      ]
     },
     "execution_count": 10,
     "metadata": {},
     "output_type": "execute_result"
    },
    {
     "data": {
      "image/png": "[encoded data removed]",
      "text/plain": [
       "<Figure size 640x480 with 1 Axes>"
      ]
     },
     "metadata": {},
     "output_type": "display_data"
    }
   ],
   "source": [
    "plt.plot(lossi)"
   ]
  },
  {
   "cell_type": "code",
   "execution_count": 11,
   "metadata": {},
   "outputs": [
    {
     "data": {
      "text/plain": [
       "tensor([[ 0.9718,  0.9991, -0.9989,  ..., -0.3648, -0.8963,  0.9992],\n",
       "        [ 0.9992,  0.6575, -0.2612,  ..., -0.9974,  0.8933,  0.9207],\n",
       "        [-0.9365, -0.6654,  0.4718,  ...,  0.9480, -0.9803,  0.9528],\n",
       "        ...,\n",
       "        [-0.0975, -0.2214, -0.9480,  ...,  0.9934, -0.9613,  0.8199],\n",
       "        [-0.9816, -0.3030,  0.7724,  ...,  0.5080, -0.9933,  0.9931],\n",
       "        [ 0.9628, -0.7532,  0.9462,  ..., -1.0000,  0.9930,  0.9535]],\n",
       "       grad_fn=<TanhBackward0>)"
      ]
     },
     "execution_count": 11,
     "metadata": {},
     "output_type": "execute_result"
    }
   ],
   "source": [
    "# Another issue is our h \n",
    "h\n",
    "# here we can se that lots of our value are 1, and -1 "
   ]
  },
  {
   "cell_type": "code",
   "execution_count": 12,
   "metadata": {},
   "outputs": [
    {
     "data": {
      "image/png": "[encoded data removed]",
      "text/plain": [
       "<Figure size 640x480 with 1 Axes>"
      ]
     },
     "metadata": {},
     "output_type": "display_data"
    }
   ],
   "source": [
    "plt.hist(h.view(-1).tolist(), bins=50);\n",
    "# most of our values are 1 or -1 this is because torch.tanh squash the value between -1 and 1 "
   ]
  },
  {
   "cell_type": "code",
   "execution_count": 13,
   "metadata": {},
   "outputs": [
    {
     "data": {
      "image/png": "[encoded data removed]",
      "text/plain": [
       "<Figure size 640x480 with 1 Axes>"
      ]
     },
     "metadata": {},
     "output_type": "display_data"
    }
   ],
   "source": [
    "plt.hist(hpreact.view(-1).tolist(), 50);\n",
    "# our values are spread bewteen -20 to 20 so a lots of values are getting squashed into -1 and 1 \n",
    "# why this is a problem because of backpropagation \n"
   ]
  },
  {
   "cell_type": "code",
   "execution_count": 14,
   "metadata": {},
   "outputs": [
    {
     "data": {
      "text/plain": [
       "<matplotlib.image.AxesImage at 0x7f631393c1c0>"
      ]
     },
     "execution_count": 14,
     "metadata": {},
     "output_type": "execute_result"
    },
    {
     "data": {
      "image/png": "[encoded data removed]",
      "text/plain": [
       "<Figure size 2000x1000 with 1 Axes>"
      ]
     },
     "metadata": {},
     "output_type": "display_data"
    }
   ],
   "source": [
    "plt.figure(figsize=(20,10))\n",
    "plt.imshow(h.abs() > 0.99, cmap='grey', interpolation='nearest')\n",
    "# what we are doing in this plot is we are checking how offen our values are above 0.99 \n",
    "# this is a boolean map and white tiles shows true and grey shows false\n",
    "# observation : most of the values are greater than 0.99 \n",
    "\n",
    "\n",
    "# we will be in lot of trouble if anyone of the entire column would be white in that case we will have a dead neuron \n",
    "# in such a case the intiallization of weight and biases could be such that no single example ever activates this tanh in sort of active part of tanh \n",
    "# if all the examples land in the tail then this neuron will never learn it is a dead neuron\n"
   ]
  },
  {
   "cell_type": "code",
   "execution_count": 15,
   "metadata": {},
   "outputs": [
    {
     "name": "stdout",
     "output_type": "stream",
     "text": [
      "train 2.035069227218628\n",
      "dev 2.1041553020477295\n",
      "test 2.1000072956085205\n"
     ]
    }
   ],
   "source": [
    "@torch.no_grad()\n",
    "def split_loss(split):\n",
    "    x,y = {\n",
    "        'train': [Xtr, Ytr],\n",
    "        'dev' : [Xdev, Ydev],\n",
    "        'test' : [Xte, Yte]\n",
    "    }[split]\n",
    "    emb = C[x]\n",
    "    h = torch.tanh(emb.view(emb.shape[0], -1) @ W1 + b1)\n",
    "    logits = h @ W2 + b2\n",
    "    loss = F.cross_entropy(logits, y)\n",
    "    print(split, loss.item())\n",
    "\n",
    "split_loss('train')\n",
    "split_loss('dev')\n",
    "split_loss('test')"
   ]
  },
  {
   "cell_type": "code",
   "execution_count": null,
   "metadata": {},
   "outputs": [],
   "source": []
  },
  {
   "cell_type": "code",
   "execution_count": null,
   "metadata": {},
   "outputs": [],
   "source": []
  }
 ],
 "metadata": {
  "kernelspec": {
   "display_name": ".venv",
   "language": "python",
   "name": "python3"
  },
  "language_info": {
   "codemirror_mode": {
    "name": "ipython",
    "version": 3
   },
   "file_extension": ".py",
   "mimetype": "text/x-python",
   "name": "python",
   "nbconvert_exporter": "python",
   "pygments_lexer": "ipython3",
   "version": "3.10.16"
  }
 },
 "nbformat": 4,
 "nbformat_minor": 2
}
